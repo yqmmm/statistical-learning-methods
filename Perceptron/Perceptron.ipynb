{
 "cells": [
  {
   "cell_type": "code",
   "execution_count": 1,
   "metadata": {},
   "outputs": [],
   "source": [
    "import sklearn.datasets\n",
    "import numpy as np\n",
    "import matplotlib.pyplot as plt\n",
    "import random"
   ]
  },
  {
   "cell_type": "code",
   "execution_count": 2,
   "metadata": {},
   "outputs": [],
   "source": [
    "iris = sklearn.datasets.load_iris()\n",
    "\n",
    "X = np.array(iris.data)[:100, :2]\n",
    "y = np.array(iris.target)[:100]\n",
    "y[y == 0] = -1"
   ]
  },
  {
   "cell_type": "code",
   "execution_count": 3,
   "metadata": {},
   "outputs": [
    {
     "data": {
      "text/plain": [
       "<matplotlib.legend.Legend at 0x1a128bba90>"
      ]
     },
     "execution_count": 3,
     "metadata": {},
     "output_type": "execute_result"
    },
    {
     "data": {
      "image/png": "[encoded data removed]",
      "text/plain": [
       "<Figure size 432x288 with 1 Axes>"
      ]
     },
     "metadata": {
      "needs_background": "light"
     },
     "output_type": "display_data"
    }
   ],
   "source": [
    "plt.scatter(X[:50,0],X[:50,1], label='-1')\n",
    "plt.scatter(X[50:,0],X[50:,1], label='1')\n",
    "plt.legend()"
   ]
  },
  {
   "cell_type": "code",
   "execution_count": 4,
   "metadata": {},
   "outputs": [],
   "source": [
    "class Perceptron:\n",
    "    def __init__(self, lr, num_iter):\n",
    "        self.lr = lr\n",
    "        self.num_iter = num_iter\n",
    "        self.W = None\n",
    "        self.b = None\n",
    "    \n",
    "    def fit(self, X, y):\n",
    "        self.num_sample, self.num_feature = X.shape\n",
    "        self.W = np.zeros(self.num_feature)\n",
    "        self.b = np.zeros(1)\n",
    "        \n",
    "        iter = 0\n",
    "        while iter < self.num_iter:\n",
    "            num_wrong = 0\n",
    "            for j in range(self.num_sample):\n",
    "                feature = X[j]\n",
    "                label = y[j]\n",
    "                if label * (np.dot(self.W, feature) + self.b) <= 0:\n",
    "                    iter += 1\n",
    "                    num_wrong += 1\n",
    "                    self.W += self.lr * label * feature\n",
    "                    self.b += self.lr * label\n",
    "            if num_wrong == 0:\n",
    "                print(\"Perceptron OK after %d iter\" % iter)\n",
    "                return\n",
    "\n",
    "        print(\"Perceptron fail after %d iter\" % self.num_iter)\n",
    "    \n",
    "    def predict(self, X):\n",
    "        return 1 if np.dot(self.W, X) + self.b > 0 else -1"
   ]
  },
  {
   "cell_type": "code",
   "execution_count": 5,
   "metadata": {},
   "outputs": [],
   "source": [
    "perceptron = Perceptron(0.1, 2000)"
   ]
  },
  {
   "cell_type": "code",
   "execution_count": 6,
   "metadata": {},
   "outputs": [
    {
     "name": "stdout",
     "output_type": "stream",
     "text": [
      "Perceptron OK after 1518 iter\n"
     ]
    }
   ],
   "source": [
    "perceptron.fit(X, y)"
   ]
  },
  {
   "cell_type": "code",
   "execution_count": 7,
   "metadata": {},
   "outputs": [
    {
     "data": {
      "text/plain": [
       "<matplotlib.legend.Legend at 0x1a149d46a0>"
      ]
     },
     "execution_count": 7,
     "metadata": {},
     "output_type": "execute_result"
    },
    {
     "data": {
      "image/png": "[encoded data removed]",
      "text/plain": [
       "<Figure size 432x288 with 1 Axes>"
      ]
     },
     "metadata": {
      "needs_background": "light"
     },
     "output_type": "display_data"
    }
   ],
   "source": [
    "x_ = np.linspace(4, 7, 10)\n",
    "y_ = -(perceptron.W[0] * x_ + perceptron.b) / perceptron.W[1]\n",
    "plt.plot(x_, y_)\n",
    "\n",
    "plt.scatter(X[:50,0],X[:50,1], label='-1')\n",
    "plt.scatter(X[50:,0],X[50:,1], label='1')\n",
    "plt.legend()"
   ]
  }
 ],
 "metadata": {
  "kernelspec": {
   "display_name": "Python [default]",
   "language": "python",
   "name": "python3"
  },
  "language_info": {
   "codemirror_mode": {
    "name": "ipython",
    "version": 3
   },
   "file_extension": ".py",
   "mimetype": "text/x-python",
   "name": "python",
   "nbconvert_exporter": "python",
   "pygments_lexer": "ipython3",
   "version": "3.6.6"
  }
 },
 "nbformat": 4,
 "nbformat_minor": 2
}
