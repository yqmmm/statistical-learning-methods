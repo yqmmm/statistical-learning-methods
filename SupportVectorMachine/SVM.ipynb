{
 "cells": [
  {
   "cell_type": "code",
   "execution_count": 1,
   "metadata": {},
   "outputs": [],
   "source": [
    "import sklearn.datasets\n",
    "import numpy as np\n",
    "import matplotlib.pyplot as plt\n",
    "import random"
   ]
  },
  {
   "cell_type": "code",
   "execution_count": 2,
   "metadata": {},
   "outputs": [],
   "source": [
    "iris = sklearn.datasets.load_iris()\n",
    "\n",
    "X = np.array(iris.data)[:100, :2]\n",
    "y = np.array(iris.target)[:100]\n",
    "y[y == 0] = -1"
   ]
  },
  {
   "cell_type": "code",
   "execution_count": 3,
   "metadata": {},
   "outputs": [
    {
     "data": {
      "text/plain": [
       "<matplotlib.legend.Legend at 0x1a1f07f898>"
      ]
     },
     "execution_count": 3,
     "metadata": {},
     "output_type": "execute_result"
    },
    {
     "data": {
      "image/png": "[encoded data removed]",
      "text/plain": [
       "<Figure size 432x288 with 1 Axes>"
      ]
     },
     "metadata": {
      "needs_background": "light"
     },
     "output_type": "display_data"
    }
   ],
   "source": [
    "plt.scatter(X[:50,0],X[:50,1], label='-1')\n",
    "plt.scatter(X[50:,0],X[50:,1], label='1')\n",
    "plt.legend()"
   ]
  },
  {
   "cell_type": "code",
   "execution_count": 4,
   "metadata": {},
   "outputs": [],
   "source": [
    "X, y = sklearn.utils.shuffle(X, y)\n",
    "X_train, y_train = X[:75], y[:75]\n",
    "X_test, y_test = X[75:], y[75:]"
   ]
  },
  {
   "cell_type": "code",
   "execution_count": 5,
   "metadata": {},
   "outputs": [],
   "source": [
    "class SVM:\n",
    "    def __init__(self, num_iter, kernel=None, epsilon=0.001):\n",
    "        self.num_iter = num_iter\n",
    "        self.epsilon = epsilon\n",
    "        self.kernel_fn = kernel\n",
    "\n",
    "    def _init_param(self, X, y):\n",
    "        self.X = X\n",
    "        self.y = y\n",
    "        self.num_sample, self.num_feature = X.shape\n",
    "\n",
    "        self.b = 0\n",
    "        self.alpha = np.zeros(self.num_sample)\n",
    "        self.E = np.array([self.estimate_diff(i) for i in range(self.num_sample)])\n",
    "        self.C = 1.0\n",
    "\n",
    "    def kernel(self, a, b):\n",
    "        if self.kernel_fn is None:\n",
    "            return np.dot(a, b)\n",
    "        else:\n",
    "            return self.kernel_fn(a, b)\n",
    "\n",
    "    def estimate(self, i):\n",
    "        ret = self.b\n",
    "        for j in range(self.num_sample):\n",
    "            ret += self.alpha[j] * self.y[j] * self.kernel(X[j], X[i])\n",
    "        return ret\n",
    "\n",
    "    def estimate_diff(self, i):\n",
    "        return self.estimate(i) - self.y[i]\n",
    "\n",
    "    def update(self):\n",
    "        for i in range(len(self.E)):\n",
    "            self.E[i] = self.estimate_diff(i)\n",
    "\n",
    "    def KKT(self, i):\n",
    "        ygx = self.y[i] * self.estimate(i)\n",
    "        if abs(self.alpha[i]) < self.epsilon:\n",
    "            return ygx >= 1\n",
    "        elif abs(self.alpha[i] - self.C) < self.epsilon:\n",
    "            return ygx <= 1\n",
    "        else:\n",
    "            return abs(ygx - 1) < self.epsilon\n",
    "\n",
    "    def step(self, i1, i2):\n",
    "        X1, X2 = self.X[i1], self.X[i2]\n",
    "        y1, y2 = self.y[i1], self.y[i2]\n",
    "        alpha1, alpha2 = self.alpha[i1], self.alpha[i2]\n",
    "        E1, E2 = self.E[i1], self.E[i2]\n",
    "\n",
    "        # Find the boundary of alpha[i2]\n",
    "        if y1 != y2:\n",
    "            L = max(0, alpha2 - alpha1)\n",
    "            H = min(self.C, self.C + alpha2 - alpha1)\n",
    "        else:\n",
    "            L = max(0, alpha2 + alpha1 - self.C)\n",
    "            H = min(self.C, alpha2 + alpha1)\n",
    "        if L == H:\n",
    "            return False\n",
    "\n",
    "        eta = self.kernel(X1, X1) + self.kernel(X2, X2) - 2 * self.kernel(X1, X2)\n",
    "        if eta == 0:\n",
    "            return False\n",
    "\n",
    "        alpha2_new_unc = alpha2 + y2 * (E1 - E2) / eta\n",
    "        if alpha2_new_unc > H:\n",
    "            alpha2_new = H\n",
    "        elif alpha2_new_unc < L:\n",
    "            alpha2_new = L\n",
    "        else:\n",
    "            alpha2_new = alpha2_new_unc\n",
    "        alpha1_new = alpha1 + y1 * y2 * (alpha2 - alpha2_new)\n",
    "\n",
    "        b1_new = -E1 - y1 * self.kernel(X1, X1) * (alpha1_new - alpha1) - y2 * self.kernel(X2, X1) * (\n",
    "                alpha2_new - alpha2) + self.b\n",
    "        b2_new = -E2 - y1 * self.kernel(X1, X2) * (alpha1_new - alpha1) - y2 * self.kernel(X2, X2) * (\n",
    "                alpha2_new - alpha2) + self.b\n",
    "        if 0 < alpha1_new < self.C:\n",
    "            b_new = b1_new\n",
    "        elif 0 < alpha2_new < self.C:\n",
    "            b_new = b2_new\n",
    "        else:\n",
    "            b_new = (b1_new + b2_new) / 2\n",
    "            \n",
    "        self.alpha[i1] = alpha1_new\n",
    "        self.alpha[i2] = alpha2_new\n",
    "        self.b = b_new\n",
    "        self.update()\n",
    "\n",
    "        return True\n",
    "\n",
    "    def fit(self, X, y):\n",
    "        self._init_param(X, y)\n",
    "\n",
    "        iter = 0\n",
    "        while iter < self.num_iter:\n",
    "            index = list(range(self.num_sample))\n",
    "            i1_candidate = [i for i in index if 0 < self.alpha[i] < self.C]\n",
    "            i1_candidate = i1_candidate + list(set(index) - set(i1_candidate))\n",
    "\n",
    "            i1, i2 = 0, 0\n",
    "            for i1 in i1_candidate:\n",
    "                if self.KKT(i1):\n",
    "                    continue\n",
    "                i2 = int(random.randint(0, self.num_sample - 1))\n",
    "                iter += 1\n",
    "                if self.step(i1, i2):\n",
    "                    break\n",
    "\n",
    "    def predict(self, data):\n",
    "        ret = self.b\n",
    "        for i in range(self.num_sample):\n",
    "            ret += self.alpha[i] * self.y[i] * self.kernel(data, self.X[i])\n",
    "        return np.where(ret > 0, 1, -1)\n"
   ]
  },
  {
   "cell_type": "code",
   "execution_count": 6,
   "metadata": {},
   "outputs": [],
   "source": [
    "model = SVM(200)"
   ]
  },
  {
   "cell_type": "code",
   "execution_count": 7,
   "metadata": {},
   "outputs": [],
   "source": [
    "model.fit(X_train, y_train)"
   ]
  },
  {
   "cell_type": "code",
   "execution_count": 8,
   "metadata": {},
   "outputs": [
    {
     "data": {
      "text/plain": [
       "1.0"
      ]
     },
     "execution_count": 8,
     "metadata": {},
     "output_type": "execute_result"
    }
   ],
   "source": [
    "(np.array([model.predict(i) for i in X_test]) == y_test).sum() / y_test.shape[0]"
   ]
  }
 ],
 "metadata": {
  "kernelspec": {
   "display_name": "Python [default]",
   "language": "python",
   "name": "python3"
  },
  "language_info": {
   "codemirror_mode": {
    "name": "ipython",
    "version": 3
   },
   "file_extension": ".py",
   "mimetype": "text/x-python",
   "name": "python",
   "nbconvert_exporter": "python",
   "pygments_lexer": "ipython3",
   "version": "3.6.6"
  }
 },
 "nbformat": 4,
 "nbformat_minor": 2
}
